{
 "cells": [
  {
   "cell_type": "code",
   "execution_count": 3,
   "metadata": {},
   "outputs": [
    {
     "name": "stdout",
     "output_type": "stream",
     "text": [
      "abccccbdbbbcbdb\n",
      "[0, 0, 1, 2, 0, 0, 1, 0, 1, 0, 1, 0, 1]\n"
     ]
    }
   ],
   "source": [
    "pattern = input()\n",
    "lenght_of_pattern = len(pattern)\n",
    "my_array =[]\n",
    "k=0\n",
    "for i in range(2,lenght_of_pattern):\n",
    "    \n",
    "    if pattern[i]  == pattern[i-2]:\n",
    "        k += 1\n",
    "        my_array.append(k)\n",
    "     \n",
    "    \n",
    "    elif pattern[i]  != pattern[i-2]:\n",
    "        k = 0\n",
    "        my_array.append(k)\n",
    "    \n",
    "print (my_array)"
   ]
  }
 ],
 "metadata": {
  "kernelspec": {
   "display_name": "Python 3",
   "language": "python",
   "name": "python3"
  },
  "language_info": {
   "codemirror_mode": {
    "name": "ipython",
    "version": 3
   },
   "file_extension": ".py",
   "mimetype": "text/x-python",
   "name": "python",
   "nbconvert_exporter": "python",
   "pygments_lexer": "ipython3",
   "version": "3.7.3"
  }
 },
 "nbformat": 4,
 "nbformat_minor": 2
}
