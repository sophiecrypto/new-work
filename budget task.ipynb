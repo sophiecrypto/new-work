{
 "cells": [
  {
   "cell_type": "code",
   "execution_count": 1,
   "metadata": {},
   "outputs": [
    {
     "name": "stdout",
     "output_type": "stream",
     "text": [
      "my budget  36000\n",
      "house rent: 450000\n",
      "school fee: 4000\n",
      "food expenses: 3000\n",
      "whatever i do except above mentioned stuff: 1000\n",
      "total expense:  458000\n",
      "you need to earn like 428000 more to compensate fancy shopping. \n"
     ]
    }
   ],
   "source": [
    "budget = 36000\n",
    "print(\"my budget \" , budget)\n",
    "\n",
    "house_rent = int(input (\"house rent: \") )\n",
    "school_fee = int(input (\"school fee: \"))\n",
    "food = int(input(\"food expenses: \"))\n",
    "others = int(input(\"whatever i do except above mentioned stuff: \"))\n",
    "\n",
    "expenses = house_rent + school_fee + food + others\n",
    "print(\"total expense: \" , expenses)\n",
    "\n",
    "if(expenses < budget):\n",
    "    remaining_amount = budget - expenses \n",
    "    print(\"remaining amount: \", remaining_amount)\n",
    "    \n",
    "    if (remaining_amount >= 6000):\n",
    "        print(\"go. get something from centaurus.\\n\")\n",
    "        \n",
    "    if (remaining_amount < 6000):\n",
    "        print(\"get some clothing next month maybe. yo you need at least 6000 in your account.\\n\")\n",
    "\n",
    "elif (expenses > budget):\n",
    "    salary = expenses - budget\n",
    "    needed_amount = salary + 6000\n",
    "    print(f\"you need to earn like {needed_amount} more to compensate fancy shopping. \")"
   ]
  }
 ],
 "metadata": {
  "kernelspec": {
   "display_name": "Python 3",
   "language": "python",
   "name": "python3"
  },
  "language_info": {
   "codemirror_mode": {
    "name": "ipython",
    "version": 3
   },
   "file_extension": ".py",
   "mimetype": "text/x-python",
   "name": "python",
   "nbconvert_exporter": "python",
   "pygments_lexer": "ipython3",
   "version": "3.7.3"
  }
 },
 "nbformat": 4,
 "nbformat_minor": 2
}
